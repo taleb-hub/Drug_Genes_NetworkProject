{
 "cells": [
  {
   "cell_type": "code",
   "execution_count": 68,
   "id": "2b67afa8",
   "metadata": {},
   "outputs": [],
   "source": [
    "import csv \n",
    "import networkx as nx \n",
    "import pandas as pd \n",
    "import matplotlib.pyplot as plt \n",
    "%matplotlib inline "
   ]
  },
  {
   "cell_type": "code",
   "execution_count": 71,
   "id": "74a40850",
   "metadata": {},
   "outputs": [],
   "source": [
    "df = pd.read_csv(r\"C:\\Users\\hp\\Desktop\\modified.csv\")"
   ]
  },
  {
   "cell_type": "code",
   "execution_count": 72,
   "id": "f01e3b12",
   "metadata": {
    "scrolled": true
   },
   "outputs": [
    {
     "data": {
      "text/html": [
       "<div>\n",
       "<style scoped>\n",
       "    .dataframe tbody tr th:only-of-type {\n",
       "        vertical-align: middle;\n",
       "    }\n",
       "\n",
       "    .dataframe tbody tr th {\n",
       "        vertical-align: top;\n",
       "    }\n",
       "\n",
       "    .dataframe thead th {\n",
       "        text-align: right;\n",
       "    }\n",
       "</style>\n",
       "<table border=\"1\" class=\"dataframe\">\n",
       "  <thead>\n",
       "    <tr style=\"text-align: right;\">\n",
       "      <th></th>\n",
       "      <th>Drug</th>\n",
       "      <th>Gene</th>\n",
       "      <th>Drug Name</th>\n",
       "      <th>Gene Name</th>\n",
       "    </tr>\n",
       "  </thead>\n",
       "  <tbody>\n",
       "    <tr>\n",
       "      <th>0</th>\n",
       "      <td>DB00357</td>\n",
       "      <td>P05108</td>\n",
       "      <td>Aminoglutethimide</td>\n",
       "      <td>CYP11A1</td>\n",
       "    </tr>\n",
       "    <tr>\n",
       "      <th>1</th>\n",
       "      <td>DB02721</td>\n",
       "      <td>P00325</td>\n",
       "      <td>4-Iodopyrazole</td>\n",
       "      <td>ADH1B</td>\n",
       "    </tr>\n",
       "    <tr>\n",
       "      <th>2</th>\n",
       "      <td>DB00773</td>\n",
       "      <td>P23219</td>\n",
       "      <td>Etoposide</td>\n",
       "      <td>PTGS1</td>\n",
       "    </tr>\n",
       "    <tr>\n",
       "      <th>3</th>\n",
       "      <td>DB07138</td>\n",
       "      <td>Q16539</td>\n",
       "      <td>Neflamapimod</td>\n",
       "      <td>MAPK14</td>\n",
       "    </tr>\n",
       "    <tr>\n",
       "      <th>4</th>\n",
       "      <td>DB07138</td>\n",
       "      <td>Q16539</td>\n",
       "      <td>Neflamapimod</td>\n",
       "      <td>MAPK14</td>\n",
       "    </tr>\n",
       "  </tbody>\n",
       "</table>\n",
       "</div>"
      ],
      "text/plain": [
       "      Drug    Gene          Drug Name Gene Name\n",
       "0  DB00357  P05108  Aminoglutethimide   CYP11A1\n",
       "1  DB02721  P00325     4-Iodopyrazole     ADH1B\n",
       "2  DB00773  P23219          Etoposide     PTGS1\n",
       "3  DB07138  Q16539       Neflamapimod    MAPK14\n",
       "4  DB07138  Q16539       Neflamapimod    MAPK14"
      ]
     },
     "execution_count": 72,
     "metadata": {},
     "output_type": "execute_result"
    }
   ],
   "source": [
    "df.head(5)"
   ]
  },
  {
   "cell_type": "code",
   "execution_count": 101,
   "id": "51105393",
   "metadata": {},
   "outputs": [],
   "source": [
    "_data_edge =nx.from_pandas_edgelist(df,source=\"Drug\",target= \"Gene\")"
   ]
  },
  {
   "cell_type": "code",
   "execution_count": 102,
   "id": "61563d1f",
   "metadata": {
    "scrolled": true
   },
   "outputs": [
    {
     "name": "stdout",
     "output_type": "stream",
     "text": [
      "Name: \n",
      "Type: Graph\n",
      "Number of nodes: 7343\n",
      "Number of edges: 15139\n",
      "Average degree:   4.1234\n"
     ]
    }
   ],
   "source": [
    "print(nx.info(_data_edge))"
   ]
  },
  {
   "cell_type": "code",
   "execution_count": 98,
   "id": "73f6d004",
   "metadata": {
    "scrolled": true
   },
   "outputs": [
    {
     "data": {
      "text/plain": [
       "['DB03329',\n",
       " 'DB02148',\n",
       " 'DB04579',\n",
       " 'DB07225',\n",
       " 'DB02685',\n",
       " 'DB07231',\n",
       " 'DB07223',\n",
       " 'DB03588',\n",
       " 'DB07219',\n",
       " 'DB02855',\n",
       " 'DB07224',\n",
       " 'DB04126',\n",
       " 'DB07160',\n",
       " 'DB02108']"
      ]
     },
     "execution_count": 98,
     "metadata": {},
     "output_type": "execute_result"
    }
   ],
   "source": [
    "list(_data_edge.neighbors('P07858'))"
   ]
  },
  {
   "cell_type": "code",
   "execution_count": 100,
   "id": "d07af4a1",
   "metadata": {},
   "outputs": [
    {
     "data": {
      "text/plain": [
       "{'P07858': 0,\n",
       " 'DB03588': 1,\n",
       " 'DB02685': 1,\n",
       " 'DB04579': 1,\n",
       " 'DB02108': 1,\n",
       " 'DB07231': 1,\n",
       " 'DB03329': 1,\n",
       " 'DB07225': 1,\n",
       " 'DB07223': 1,\n",
       " 'DB02855': 1,\n",
       " 'DB07219': 1,\n",
       " 'DB07160': 1,\n",
       " 'DB07224': 1,\n",
       " 'DB04126': 1,\n",
       " 'DB02148': 1}"
      ]
     },
     "execution_count": 100,
     "metadata": {},
     "output_type": "execute_result"
    }
   ],
   "source": [
    "# the first step friends of the node \"P07858\"\n",
    "node = 'P07858'\n",
    "nx.single_source_shortest_path_length(_data_edge, node, cutoff=1)"
   ]
  },
  {
   "cell_type": "code",
   "execution_count": 99,
   "id": "98900996",
   "metadata": {},
   "outputs": [
    {
     "data": {
      "text/plain": [
       "{'P07858': 0,\n",
       " 'DB03588': 1,\n",
       " 'DB02685': 1,\n",
       " 'DB04579': 1,\n",
       " 'DB02108': 1,\n",
       " 'DB07231': 1,\n",
       " 'DB03329': 1,\n",
       " 'DB07225': 1,\n",
       " 'DB07223': 1,\n",
       " 'DB02855': 1,\n",
       " 'DB07219': 1,\n",
       " 'DB07160': 1,\n",
       " 'DB07224': 1,\n",
       " 'DB04126': 1,\n",
       " 'DB02148': 1,\n",
       " 'P09668': 2,\n",
       " 'DB08526': 3,\n",
       " 'DB03120': 3,\n",
       " 'DB02140': 3}"
      ]
     },
     "execution_count": 99,
     "metadata": {},
     "output_type": "execute_result"
    }
   ],
   "source": [
    "# the third step friends of the node \"P07858\"\n",
    "node = 'P07858'\n",
    "nx.single_source_shortest_path_length(_data_edge, node, cutoff=3)"
   ]
  },
  {
   "cell_type": "code",
   "execution_count": 112,
   "id": "38325ff3",
   "metadata": {},
   "outputs": [
    {
     "data": {
      "text/plain": [
       "{'P02792': 0, 'DB00893': 1, 'DB02285': 1}"
      ]
     },
     "execution_count": 112,
     "metadata": {},
     "output_type": "execute_result"
    }
   ],
   "source": [
    "# the first step friends of \"P02792\"\n",
    "node = 'P02792'\n",
    "nx.single_source_shortest_path_length(_data_edge, node, cutoff=1)"
   ]
  },
  {
   "cell_type": "code",
   "execution_count": 113,
   "id": "041c0ed4",
   "metadata": {},
   "outputs": [
    {
     "data": {
      "text/plain": [
       "{'P02792': 0,\n",
       " 'DB00893': 1,\n",
       " 'DB02285': 1,\n",
       " 'P69905': 2,\n",
       " 'P02794': 2,\n",
       " 'P68871': 2,\n",
       " 'DB07428': 3,\n",
       " 'DB00358': 3,\n",
       " 'DB02126': 3,\n",
       " 'DB08077': 3,\n",
       " 'DB08486': 3,\n",
       " 'DB07645': 3,\n",
       " 'DB07427': 3,\n",
       " 'DB08262': 3,\n",
       " 'DB08632': 3}"
      ]
     },
     "execution_count": 113,
     "metadata": {},
     "output_type": "execute_result"
    }
   ],
   "source": [
    "# the third step friends of \"P02792\"\n",
    "node = 'P02792'\n",
    "nx.single_source_shortest_path_length(_data_edge, node, cutoff=3)"
   ]
  },
  {
   "cell_type": "code",
   "execution_count": 154,
   "id": "bce761c0",
   "metadata": {},
   "outputs": [],
   "source": [
    "# Topological Fingerprints \n",
    "## Fingerprinting and MOlecular Similarity \n",
    "\n",
    "from rdkit import DataStructs\n",
    "from rdkit import Chem\n",
    "from rdkit.Chem import AllChem\n",
    "from rdkit.Chem import Draw\n",
    "from rdkit.Chem.Draw import IPythonConsole\n",
    "from rdkit.Chem import rdDepictor\n",
    "from rdkit.Chem.Draw import rdMolDraw2D\n",
    "from IPython.display import SVG"
   ]
  },
  {
   "cell_type": "code",
   "execution_count": null,
   "id": "5f956cf1",
   "metadata": {},
   "outputs": [],
   "source": [
    "# take the smiles form of the drugs\n",
    "1. DB02285: CC1=C(C2=CC3=NC(=CC4=NC(=CC5=C(C(=C(N5)C=C1N2)C=C)C)C(=C4CCC(=O)O)C)C(=C3C)CCC(=O)O)C=C\n",
    "3. DB07428: CC1=C(C=C(C=C1)OC)OCC2=CC=NC=C2"
   ]
  },
  {
   "cell_type": "code",
   "execution_count": 114,
   "id": "7534a249",
   "metadata": {},
   "outputs": [
    {
     "data": {
      "text/plain": [
       "0.15906288532675708"
      ]
     },
     "execution_count": 114,
     "metadata": {},
     "output_type": "execute_result"
    }
   ],
   "source": [
    "# comparing the similarity in sturctures between the first step friends and the third step friends of the node \"P33681\"\n",
    "ms = [Chem.MolFromSmiles('CC1=C(C2=CC3=NC(=CC4=NC(=CC5=C(C(=C(N5)C=C1N2)C=C)C)C(=C4CCC(=O)O)C)C(=C3C)CCC(=O)O)C=C'), Chem.MolFromSmiles('CC1=C(C=C(C=C1)OC)OCC2=CC=NC=C2')]\n",
    "fps = [Chem.RDKFingerprint(x) for x in ms]\n",
    "DataStructs.FingerprintSimilarity(fps[0],fps[1])"
   ]
  },
  {
   "cell_type": "code",
   "execution_count": 169,
   "id": "c4d1f0c4",
   "metadata": {},
   "outputs": [
    {
     "data": {
      "image/png": "[encoded data removed]",
      "text/plain": [
       "<PIL.Image.Image image mode=RGBA size=600x200 at 0x252B9D445F8>"
      ]
     },
     "execution_count": 169,
     "metadata": {},
     "output_type": "execute_result"
    }
   ],
   "source": [
    "core = Chem.MolFromSmiles('CC1=C(C=C(C=C1)OC)OCC2=CC=NC=C2')\n",
    "hal = [m.GetSubstructMatch(core)for m in ms]\n",
    "img = Draw.MolsToGridImage(ms)\n",
    "img"
   ]
  }
 ],
 "metadata": {
  "kernelspec": {
   "display_name": "Python 3",
   "language": "python",
   "name": "python3"
  },
  "language_info": {
   "codemirror_mode": {
    "name": "ipython",
    "version": 3
   },
   "file_extension": ".py",
   "mimetype": "text/x-python",
   "name": "python",
   "nbconvert_exporter": "python",
   "pygments_lexer": "ipython3",
   "version": "3.6.13"
  }
 },
 "nbformat": 4,
 "nbformat_minor": 5
}
